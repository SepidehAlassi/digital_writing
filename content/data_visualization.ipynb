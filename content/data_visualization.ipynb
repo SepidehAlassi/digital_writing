{
  "metadata": {
    "kernelspec": {
      "name": "python",
      "display_name": "Python (Pyodide)",
      "language": "python"
    },
    "language_info": {
      "codemirror_mode": {
        "name": "python",
        "version": 3
      },
      "file_extension": ".py",
      "mimetype": "text/x-python",
      "name": "python",
      "nbconvert_exporter": "python",
      "pygments_lexer": "ipython3",
      "version": "3.8"
    }
  },
  "nbformat_minor": 4,
  "nbformat": 4,
  "cells": [
    {
      "cell_type": "markdown",
      "source": "# Analysis of Reviews (Exercise)\n\nNow let's use some of the techniques we have learned to analyze some customer reviews about wines.\n\nThe dataset is available in `wine_data.csv`. Let's read it to our dataset and analyze it:",
      "metadata": {}
    },
    {
      "cell_type": "code",
      "source": "import pandas as pd\nwine_df = pd.read_csv('wine_data.csv')\nwine_df.head() #",
      "metadata": {
        "pycharm": {
          "is_executing": true
        },
        "scrolled": true,
        "trusted": true
      },
      "outputs": [],
      "execution_count": null
    },
    {
      "cell_type": "markdown",
      "source": "Let's have a look at 20 most expensive wines in this dataset:",
      "metadata": {}
    },
    {
      "cell_type": "code",
      "source": "expensive_wines = wine_df.nlargest(20, 'price')[['title', 'price', 'points']]\nexpensive_wines",
      "metadata": {
        "trusted": true
      },
      "outputs": [],
      "execution_count": null
    },
    {
      "cell_type": "code",
      "source": "# Plot the data\nimport matplotlib.pyplot as plt\n\nplt.figure(figsize=(12, 8))\nplt.barh(expensive_wines['title'], expensive_wines['price'])\nplt.xlabel('Price')\nplt.ylabel('Wine')\nplt.xticks(range(400, 4000, 200))\nplt.title('Price of Most Expensive Wines')\nplt.gca().invert_yaxis()  # Invert y-axis for better readability\nplt.show()",
      "metadata": {
        "trusted": true
      },
      "outputs": [],
      "execution_count": null
    },
    {
      "cell_type": "markdown",
      "source": "### Exercise 1:\n\nVisualize the pricing of top highly rated wine varieties (those with high points).",
      "metadata": {}
    },
    {
      "cell_type": "code",
      "source": "# PUT YOUR CODE HERE",
      "metadata": {
        "trusted": true
      },
      "outputs": [],
      "execution_count": null
    },
    {
      "cell_type": "markdown",
      "source": "### box plot example\n\nHow is the rating of wines from Sicily & Sardinia? ",
      "metadata": {}
    },
    {
      "cell_type": "code",
      "source": "ss_wines = wine_df.loc[wine_df['province']=='Sicily & Sardinia']\nss_wines.boxplot(column=['points'],\n                  ylabel='Rating of wines from Sicily & Sardinia')\nplt.show()",
      "metadata": {
        "trusted": true
      },
      "outputs": [],
      "execution_count": null
    },
    {
      "cell_type": "markdown",
      "source": "### Wordcloud of Descriptions\n\nWhich terms people use the most when describing wines?",
      "metadata": {}
    },
    {
      "cell_type": "code",
      "source": "text = \" \".join(review for review in wine_df.description)\nprint (\"There are {} words in the combination of all review.\".format(len(text)))",
      "metadata": {
        "trusted": true
      },
      "outputs": [],
      "execution_count": null
    },
    {
      "cell_type": "code",
      "source": "from wordcloud import WordCloud, STOPWORDS, ImageColorGenerator\n\n# Create stopword list:\nstopwords = set(STOPWORDS)\nstopwords.update([\"drink\", \"now\", \"wine\", \"flavor\", \"flavors\"])\n\n# Generate a word cloud image\nwordcloud = WordCloud(stopwords=stopwords, background_color=\"white\").generate(text)\n\n# Display the generated image:\n# the matplotlib way:\nplt.imshow(wordcloud, interpolation='bilinear')\nplt.axis(\"off\")\nplt.show()\n",
      "metadata": {
        "trusted": true
      },
      "outputs": [],
      "execution_count": null
    },
    {
      "cell_type": "markdown",
      "source": "which words people use the most describing italian wine?",
      "metadata": {}
    },
    {
      "cell_type": "code",
      "source": "italy = wine_df.loc[wine_df['country']== 'Italy']\nitaly",
      "metadata": {
        "collapsed": false,
        "jupyter": {
          "outputs_hidden": false
        },
        "trusted": true
      },
      "outputs": [],
      "execution_count": null
    },
    {
      "cell_type": "code",
      "source": "text = \" \".join(review for review in italy.description)\nprint (\"There are {} words in the combination of all review.\".format(len(text)))",
      "metadata": {
        "trusted": true
      },
      "outputs": [],
      "execution_count": null
    },
    {
      "cell_type": "code",
      "source": "# Generate a word cloud image\nwordcloud = WordCloud(stopwords=stopwords, background_color=\"black\").generate(text)\n\n# Display the generated image:\n# the matplotlib way:\nplt.imshow(wordcloud, interpolation='bilinear')\nplt.axis(\"off\")\nplt.show()",
      "metadata": {
        "trusted": true
      },
      "outputs": [],
      "execution_count": null
    },
    {
      "cell_type": "markdown",
      "source": "### Exercise 2:\n\nWhich terms people use to describe the worst french wines?",
      "metadata": {}
    },
    {
      "cell_type": "code",
      "source": "# PUT YOUR CODE HERE",
      "metadata": {
        "trusted": true
      },
      "outputs": [],
      "execution_count": null
    }
  ]
}