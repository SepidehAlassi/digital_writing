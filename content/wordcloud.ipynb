{
 "metadata": {
  "kernelspec": {
   "name": "python",
   "display_name": "Python (Pyodide)",
   "language": "python"
  },
  "language_info": {
   "codemirror_mode": {
    "name": "python",
    "version": 3
   },
   "file_extension": ".py",
   "mimetype": "text/x-python",
   "name": "python",
   "nbconvert_exporter": "python",
   "pygments_lexer": "ipython3",
   "version": "3.8"
  }
 },
 "nbformat_minor": 4,
 "nbformat": 4,
 "cells": [
  {
   "cell_type": "markdown",
   "source": "# Word Cloud\n\nA word cloud is a visual representation of text data, where individual words are displayed in varying sizes based on their frequency or importance within a given text. In a word cloud:\n\n- Frequent words appear larger and bolder.\n- Less frequent words are smaller and may be lighter in color.\n\nWord clouds are often used to quickly convey the main themes or topics present in a body of text, making it easier to identify key concepts at a glance. They are popular in data visualization for text analysis, social media monitoring, and content summarization. Word clouds can be generated from various sources, such as articles, surveys, and social media posts.\n\nSuppose we have the following text, and we want to generate a wordcloud visualization to study the term frequencies in the text.",
   "metadata": {}
  },
  {
   "cell_type": "markdown",
   "source": "> In the age of technology, communication has transformed dramatically. \nSocial media platforms have reshaped how we interact, fostering connections across the globe. \nInformation flows rapidly, enabling us to share ideas, opinions, and experiences in real time. \nHowever, this constant stream of content also presents challenges: misinformation can spread just as quickly, \ncreating confusion and distrust. The digital landscape encourages creativity, allowing voices from diverse backgrounds to be heard. \nYet, the pressure to maintain an online presence can lead to anxiety and burnout. \nAs we navigate this complex environment, it is essential to strike a balance between engagement and self-care. Words have power; they can inspire change, ignite passions, and foster community. \nThrough storytelling, we connect with one another, sharing our journeys and building empathy. \nAs we embrace the richness of language, let's use it to uplift, educate, and empower ourselves and others.",
   "metadata": {}
  },
  {
   "cell_type": "markdown",
   "source": "First, we need to store our text in a variable, as shown below.",
   "metadata": {}
  },
  {
   "cell_type": "code",
   "source": "# Sample text\n\nmy_text =\"\"\"\nIn the age of technology, communication has transformed dramatically. \nSocial media platforms have reshaped how we interact, fostering connections across the globe. \nInformation flows rapidly, enabling us to share ideas, opinions, and experiences in real time. \nHowever, this constant stream of content also presents challenges: misinformation can spread just as quickly, \ncreating confusion and distrust.\n\nThe digital landscape encourages creativity, allowing voices from diverse backgrounds to be heard. \nYet, the pressure to maintain an online presence can lead to anxiety and burnout. \nAs we navigate this complex environment, it is essential to strike a balance between engagement and self-care.\n\nWords have power; they can inspire change, ignite passions, and foster community. \nThrough storytelling, we connect with one another, sharing our journeys and building empathy. \nAs we embrace the richness of language, let's use it to uplift, educate, and empower ourselves and others.\n\"\"\"",
   "metadata": {
    "trusted": true
   },
   "outputs": [],
   "execution_count": null
  },
  {
   "cell_type": "markdown",
   "source": "Now the entire text is accessible via the variable `mey_text` in our codebase, and we can do many operations on it. For example, we can generate its wordcloud.\n\nThen, we have to import all the necessary packages for creating and displaying wordclouds. To do so, run the following cell:",
   "metadata": {}
  },
  {
   "cell_type": "code",
   "source": "# Import packages\nfrom wordcloud import WordCloud\nimport matplotlib.pyplot as plt",
   "metadata": {
    "trusted": true
   },
   "outputs": [],
   "execution_count": null
  },
  {
   "cell_type": "markdown",
   "source": "Next, to generate the wordcloud, there is a Python package available that is very easy to use, as shown below. To create a wordcloud, you only need to call the `WordCloud().generate()` function with the text value.",
   "metadata": {}
  },
  {
   "cell_type": "code",
   "source": "# Create a word cloud\nmy_wordcloud = WordCloud().generate(my_text)  # generate a wordcloud\nplt.imshow(my_wordcloud)  #show the wordcloud\nplt.axis('off')  # Turn off the axis around the visualization\nplt.show()",
   "metadata": {
    "trusted": true
   },
   "outputs": [],
   "execution_count": null
  },
  {
   "cell_type": "markdown",
   "source": "Having a quick look at this wordcloud, one can quickly guess what the text is about without reading it.",
   "metadata": {}
  },
  {
   "cell_type": "markdown",
   "source": "### Store the visualization in a file\n\nTo insert your visualization in your articles, thesis, etc. or to share it with others, you need to save it to a file. \nThe `my_wordcloud` object, contains your visualization. You can store it in an image file anywhere on your file system, as shown below:",
   "metadata": {}
  },
  {
   "cell_type": "code",
   "source": "my_wordcloud.to_file(\"my_wordcloud.png\")  #save the visualization into the file \"my_wordcloud.png\"",
   "metadata": {
    "trusted": true
   },
   "outputs": [],
   "execution_count": null
  },
  {
   "cell_type": "markdown",
   "source": "## Removing Stopwords\n\n**Stop words** are commonly used words in a language that are often filtered out during text processing and analysis. These words typically include articles, prepositions, conjunctions, and other function words that carry less meaning on their own. Examples of stop words in English include:\n\n- Articles: \"the,\" \"a,\" \"an\"\n- Prepositions: \"in,\" \"on,\" \"at\"\n- Conjunctions: \"and,\" \"but,\" \"or\"\n- Pronouns: \"he,\" \"she,\" \"it,\" \"they\"\n\nThe rationale for removing stop words in text analysis is that they usually do not contribute significant meaning to the content and can clutter the analysis. By filtering them out, you can focus on more meaningful words that convey the main themes and ideas in the text. However, the decision to remove stop words can depend on the context of the analysis and the specific goals of the text processing.\n\nThere is a list of stopwords available in the wordcloud Python package that can be imported, as shown below:",
   "metadata": {}
  },
  {
   "cell_type": "code",
   "source": "from wordcloud import STOPWORDS\nstopwords = set(STOPWORDS)   # a set of stopwords in English\nstopwords",
   "metadata": {
    "trusted": true
   },
   "outputs": [],
   "execution_count": null
  },
  {
   "cell_type": "markdown",
   "source": "Having this collection of stopwords, we can ask Python to generate the wordcloud after removing these stopwords from texts. \n\nBelow, we create the wordcloud of our `my_text` without the stopwords.",
   "metadata": {}
  },
  {
   "cell_type": "code",
   "source": "# Generate wordcloud after removing stopwords\n# Here we also set the background color of the Wordcloud to be white.\nwordcloud_no_stopwords = WordCloud(background_color='white',\n                                  stopwords = stopwords\n                                  ).generate(my_text)  # generate a wordcloud\n\nwordcloud_no_stopwords.to_file(\"wordcloud_clean.png\") # save the wordcloud to an image file\nplt.imshow(wordcloud_no_stopwords)  #show the wordcloud\nplt.axis('off')  # Turn off the axis around the visualization\nplt.show()",
   "metadata": {
    "trusted": true
   },
   "outputs": [],
   "execution_count": null
  },
  {
   "cell_type": "markdown",
   "source": "# Exercise 1:\nCreate the wordcloud of the following text. Don't forget to remove the stop words.\n\n> Passion often feels boundless, driving individuals to pursue their goals with energy and intensity. However, this enthusiasm requires a solid foundation of physical and mental well-being. Sleep and water consumption, though often overlooked, are essential pillars that sustain passion and ensure it flourishes over time. Sleep plays a critical role in fueling passion. During deep sleep, the brain consolidates memories, processes emotions, and restores cognitive functions.\nWithout adequate rest, enthusiasm and focus wane, making it harder to sustain the drive necessary for creative and meaningful pursuits. Passion thrives on mental clarity,\nand sleep provides the rejuvenation needed to maintain this clarity, ensuring that the energy for one’s goals remains steadfast. Hydration is equally vital for sustaining passion. Water is fundamental to almost every bodily process,\nfrom regulating body temperature to maintaining cognitive function. Even mild dehydration can impair concentration,\ndiminish mood, and lower energy levels—factors that can directly undermine the intensity and drive behind one’s pursuits.\nStaying hydrated supports sustained effort, keeping the mind sharp and the body energized to tackle challenges with zeal. The interplay between sleep and hydration further influences passion. Poor sleep can disrupt the body’s balance,\nleading to increased dehydration due to hormonal shifts. Similarly, dehydration can interfere with sleep quality,\ncreating a cycle that saps energy and dulls the enthusiasm needed to pursue one’s passions. Balancing these elements creates a\nstrong foundation for mental and physical resilience, essential for maintaining the fervor that passion demands. Passion, while a powerful force, requires care to sustain. Prioritizing sleep and water consumption ensures that the energy,\nfocus, and drive behind passionate endeavors are not only maintained but also amplified. By respecting these fundamental needs,\nindividuals can fully engage with their passions, achieving their goals with vigor and enduring enthusiasm.\n",
   "metadata": {
    "collapsed": false,
    "jupyter": {
     "outputs_hidden": false
    }
   }
  },
  {
   "cell_type": "code",
   "source": "# PUT YOUR CODE HERE\n",
   "metadata": {
    "collapsed": false,
    "jupyter": {
     "outputs_hidden": false
    },
    "trusted": true
   },
   "outputs": [],
   "execution_count": null
  }
 ]
}
